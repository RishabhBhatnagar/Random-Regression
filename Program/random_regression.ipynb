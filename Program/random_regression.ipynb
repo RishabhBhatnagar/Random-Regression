{
 "cells": [
  {
   "cell_type": "code",
   "execution_count": 4,
   "metadata": {},
   "outputs": [],
   "source": [
    "#Importing libraries\n",
    "import numpy as np                    # managing shape of iterables\n",
    "import matplotlib.pyplot as plt       # visualisation\n",
    "import pandas as pd                   # Loading data frame (csv)\n",
    "from sklearn import linear_model      # to build a linear model"
   ]
  },
  {
   "cell_type": "code",
   "execution_count": 5,
   "metadata": {},
   "outputs": [],
   "source": [
    "\"\"\"\n",
    "Data set credit:\n",
    "https://www.kaggle.com/andonians/random-linear-regression\n",
    "\"\"\"\n",
    "\n",
    "#loading csv data\n",
    "train_data = pd.read_csv(\"../dataset/train.csv\")\n",
    "test_data = pd.read_csv(\"../dataset/test.csv\")\n",
    "\n",
    "# extracting data from pandas dataframe.\n",
    "X, Y = np.array(train_data['x'][1:]), np.array(train_data['y'][1:])\n",
    "x, y = np.array(test_data['x'][1:]), np.array(test_data['y'][1:])\n",
    "\n",
    "# reshaping all the data variables.\n",
    "[x, y, X, Y] = [data.reshape(-1, 1) for data in [x, y, X, Y]]"
   ]
  },
  {
   "cell_type": "code",
   "execution_count": 16,
   "metadata": {},
   "outputs": [
    {
     "name": "stdout",
     "output_type": "stream",
     "text": [
      "split ratio is : 70%\n"
     ]
    },
    {
     "data": {
      "text/plain": [
       "<matplotlib.collections.PathCollection at 0x7f486919a7b8>"
      ]
     },
     "execution_count": 16,
     "metadata": {},
     "output_type": "execute_result"
    },
    {
     "data": {
      "image/png": "[encoded data removed]",
      "text/plain": [
       "<Figure size 432x288 with 1 Axes>"
      ]
     },
     "metadata": {},
     "output_type": "display_data"
    }
   ],
   "source": [
    "#Checking the split ratio:\n",
    "split_ratio = len(X)*100//(len(x)+len(X))\n",
    "print(\"split ratio is : {}%\".format(split_ratio))\n",
    "\n",
    "#Visualising the data : \n",
    "plt.scatter(x, y)"
   ]
  },
  {
   "cell_type": "code",
   "execution_count": 7,
   "metadata": {},
   "outputs": [
    {
     "data": {
      "text/plain": [
       "LinearRegression(copy_X=True, fit_intercept=True, n_jobs=1, normalize=False)"
      ]
     },
     "execution_count": 7,
     "metadata": {},
     "output_type": "execute_result"
    }
   ],
   "source": [
    "model = linear_model.LinearRegression()\n",
    "\n",
    "model.fit(x, y)"
   ]
  },
  {
   "cell_type": "code",
   "execution_count": 9,
   "metadata": {},
   "outputs": [
    {
     "name": "stdout",
     "output_type": "stream",
     "text": [
      "Accuracy is : 99.03956278464527\n"
     ]
    }
   ],
   "source": [
    "# testing time:\n",
    "print(\"Accuracy is : {}\".format(model.score(X, Y)*100))"
   ]
  }
 ],
 "metadata": {
  "kernelspec": {
   "display_name": "Python 3",
   "language": "python",
   "name": "python3"
  },
  "language_info": {
   "codemirror_mode": {
    "name": "ipython",
    "version": 3
   },
   "file_extension": ".py",
   "mimetype": "text/x-python",
   "name": "python",
   "nbconvert_exporter": "python",
   "pygments_lexer": "ipython3",
   "version": "3.5.2"
  }
 },
 "nbformat": 4,
 "nbformat_minor": 2
}
